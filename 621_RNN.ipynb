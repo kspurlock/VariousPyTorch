{
 "cells": [
  {
   "attachments": {},
   "cell_type": "markdown",
   "metadata": {},
   "source": [
    "# CSE621 RNN Demo\n",
    "---\n",
    "Prepared by: Kyle Spurlock\n",
    "\n",
    "Spring 2023\n",
    "\n",
    "University of Louisville"
   ]
  },
  {
   "cell_type": "code",
   "execution_count": 1,
   "metadata": {},
   "outputs": [
    {
     "name": "stdout",
     "output_type": "stream",
     "text": [
      "Defaulting to user installation because normal site-packages is not writeable\n",
      "Requirement already satisfied: justifytext in c:\\users\\kylei\\appdata\\roaming\\python\\python310\\site-packages (0.2.1.post3)\n",
      "Requirement already satisfied: nltk in c:\\users\\kylei\\appdata\\roaming\\python\\python310\\site-packages (3.8.1)\n",
      "Requirement already satisfied: joblib in c:\\users\\kylei\\appdata\\roaming\\python\\python310\\site-packages (from nltk) (1.2.0)\n",
      "Requirement already satisfied: tqdm in c:\\users\\kylei\\appdata\\roaming\\python\\python310\\site-packages (from nltk) (4.64.1)\n",
      "Requirement already satisfied: click in c:\\users\\kylei\\appdata\\roaming\\python\\python310\\site-packages (from nltk) (8.1.3)\n",
      "Requirement already satisfied: regex>=2021.8.3 in c:\\users\\kylei\\appdata\\roaming\\python\\python310\\site-packages (from nltk) (2023.3.23)\n",
      "Requirement already satisfied: colorama in c:\\users\\kylei\\appdata\\roaming\\python\\python310\\site-packages (from click->nltk) (0.4.6)\n"
     ]
    },
    {
     "name": "stderr",
     "output_type": "stream",
     "text": [
      "\n",
      "[notice] A new release of pip is available: 23.0.1 -> 23.1\n",
      "[notice] To update, run: python.exe -m pip install --upgrade pip\n"
     ]
    }
   ],
   "source": [
    "!pip install justifytext nltk"
   ]
  },
  {
   "cell_type": "code",
   "execution_count": 2,
   "metadata": {},
   "outputs": [
    {
     "name": "stderr",
     "output_type": "stream",
     "text": [
      "[nltk_data] Downloading package stopwords to\n",
      "[nltk_data]     C:\\Users\\kylei\\AppData\\Roaming\\nltk_data...\n",
      "[nltk_data]   Unzipping corpora\\stopwords.zip.\n",
      "[nltk_data] Downloading package punkt to\n",
      "[nltk_data]     C:\\Users\\kylei\\AppData\\Roaming\\nltk_data...\n",
      "[nltk_data]   Unzipping tokenizers\\punkt.zip.\n"
     ]
    },
    {
     "data": {
      "text/plain": [
       "True"
      ]
     },
     "execution_count": 2,
     "metadata": {},
     "output_type": "execute_result"
    }
   ],
   "source": [
    "# General\n",
    "import numpy as np\n",
    "import pandas as pd\n",
    "\n",
    "# Plotting\n",
    "import matplotlib.pyplot as plt\n",
    "import matplotlib as mpl\n",
    "%matplotlib inline\n",
    "mpl.rcParams[\"font.family\"] = \"Times New Roman\"\n",
    "mpl.rcParams[\"figure.dpi\"] = 100\n",
    "\n",
    "# Standard\n",
    "from typing import Optional, Callable\n",
    "import copy\n",
    "\n",
    "# Text Related\n",
    "import re\n",
    "import nltk\n",
    "from nltk.stem import PorterStemmer\n",
    "from nltk.corpus import stopwords\n",
    "\n",
    "nltk.download(\"stopwords\")\n",
    "nltk.download(\"punkt\")"
   ]
  },
  {
   "attachments": {},
   "cell_type": "markdown",
   "metadata": {},
   "source": [
    "# 1. Preprocessing"
   ]
  },
  {
   "cell_type": "code",
   "execution_count": 3,
   "metadata": {},
   "outputs": [
    {
     "data": {
      "text/html": [
       "<div>\n",
       "<style scoped>\n",
       "    .dataframe tbody tr th:only-of-type {\n",
       "        vertical-align: middle;\n",
       "    }\n",
       "\n",
       "    .dataframe tbody tr th {\n",
       "        vertical-align: top;\n",
       "    }\n",
       "\n",
       "    .dataframe thead th {\n",
       "        text-align: right;\n",
       "    }\n",
       "</style>\n",
       "<table border=\"1\" class=\"dataframe\">\n",
       "  <thead>\n",
       "    <tr style=\"text-align: right;\">\n",
       "      <th></th>\n",
       "      <th>airline_sentiment</th>\n",
       "      <th>text</th>\n",
       "    </tr>\n",
       "  </thead>\n",
       "  <tbody>\n",
       "    <tr>\n",
       "      <th>0</th>\n",
       "      <td>neutral</td>\n",
       "      <td>@VirginAmerica What @dhepburn said.</td>\n",
       "    </tr>\n",
       "    <tr>\n",
       "      <th>1</th>\n",
       "      <td>positive</td>\n",
       "      <td>@VirginAmerica plus you've added commercials t...</td>\n",
       "    </tr>\n",
       "    <tr>\n",
       "      <th>2</th>\n",
       "      <td>neutral</td>\n",
       "      <td>@VirginAmerica I didn't today... Must mean I n...</td>\n",
       "    </tr>\n",
       "    <tr>\n",
       "      <th>3</th>\n",
       "      <td>negative</td>\n",
       "      <td>@VirginAmerica it's really aggressive to blast...</td>\n",
       "    </tr>\n",
       "    <tr>\n",
       "      <th>4</th>\n",
       "      <td>negative</td>\n",
       "      <td>@VirginAmerica and it's a really big bad thing...</td>\n",
       "    </tr>\n",
       "  </tbody>\n",
       "</table>\n",
       "</div>"
      ],
      "text/plain": [
       "  airline_sentiment                                               text\n",
       "0           neutral                @VirginAmerica What @dhepburn said.\n",
       "1          positive  @VirginAmerica plus you've added commercials t...\n",
       "2           neutral  @VirginAmerica I didn't today... Must mean I n...\n",
       "3          negative  @VirginAmerica it's really aggressive to blast...\n",
       "4          negative  @VirginAmerica and it's a really big bad thing..."
      ]
     },
     "execution_count": 3,
     "metadata": {},
     "output_type": "execute_result"
    }
   ],
   "source": [
    "# Checking out the data, grabbing relevant columns\n",
    "data = pd.read_csv(\"data/twitter_airline/Tweets.csv\")\n",
    "data = data.loc[:, [\"airline_sentiment\", \"text\"]]\n",
    "data.head()"
   ]
  },
  {
   "cell_type": "code",
   "execution_count": 4,
   "metadata": {},
   "outputs": [
    {
     "data": {
      "image/png": "[encoded data removed]",
      "text/plain": [
       "<Figure size 600x400 with 1 Axes>"
      ]
     },
     "metadata": {},
     "output_type": "display_data"
    }
   ],
   "source": [
    "# Encoding the labels\n",
    "cls_names, cls_counts = np.unique(data[\"airline_sentiment\"], return_counts=True)\n",
    "\n",
    "fig, ax = plt.subplots(\n",
    "    1,\n",
    "    figsize=(6, 4),\n",
    ")\n",
    "x = np.linspace(start=1, stop=2.5, num=3)\n",
    "ax.bar(x, cls_counts, 0.4, zorder=2)\n",
    "ax.set_xticks(x, labels=cls_names)\n",
    "ax.set_xlabel(\"Class\", fontweight=\"bold\")\n",
    "ax.set_ylabel(\"Num Samples\", fontweight=\"bold\")\n",
    "ax.grid(axis=\"y\", zorder=1)\n",
    "ax.set_title(\"Sentiment Class Distribution\", fontweight=\"bold\")\n",
    "plt.show()"
   ]
  },
  {
   "cell_type": "code",
   "execution_count": 5,
   "metadata": {},
   "outputs": [
    {
     "name": "stdout",
     "output_type": "stream",
     "text": [
      "[('negative', 9178), ('neutral', 3099), ('positive', 2363)]\n"
     ]
    }
   ],
   "source": [
    "# Checking counts of classes\n",
    "print(list(zip(cls_names, cls_counts)))"
   ]
  },
  {
   "cell_type": "markdown",
   "metadata": {},
   "source": [
    "Heavily skewed towards negative sentiment."
   ]
  },
  {
   "cell_type": "code",
   "execution_count": 6,
   "metadata": {},
   "outputs": [
    {
     "data": {
      "text/plain": [
       "array(['@VirginAmerica What @dhepburn said.',\n",
       "       \"@VirginAmerica plus you've added commercials to the experience... tacky.\",\n",
       "       \"@VirginAmerica I didn't today... Must mean I need to take another trip!\",\n",
       "       '@VirginAmerica it\\'s really aggressive to blast obnoxious \"entertainment\" in your guests\\' faces &amp; they have little recourse',\n",
       "       \"@VirginAmerica and it's a really big bad thing about it\",\n",
       "       \"@VirginAmerica seriously would pay $30 a flight for seats that didn't have this playing.\\nit's really the only bad thing about flying VA\",\n",
       "       '@VirginAmerica yes, nearly every time I fly VX this “ear worm” won’t go away :)',\n",
       "       '@VirginAmerica Really missed a prime opportunity for Men Without Hats parody, there. https://t.co/mWpG7grEZP',\n",
       "       \"@virginamerica Well, I didn't…but NOW I DO! :-D\",\n",
       "       \"@VirginAmerica it was amazing, and arrived an hour early. You're too good to me.\"],\n",
       "      dtype=object)"
      ]
     },
     "execution_count": 6,
     "metadata": {},
     "output_type": "execute_result"
    }
   ],
   "source": [
    "data[\"text\"][:10].values"
   ]
  },
  {
   "cell_type": "code",
   "execution_count": 7,
   "metadata": {},
   "outputs": [
    {
     "name": "stdout",
     "output_type": "stream",
     "text": [
      "('neutral', '@VirginAmerica What @dhepburn said.')\n",
      "('positive', \"@VirginAmerica plus you've added commercials to the experience... tacky.\")\n",
      "('neutral', \"@VirginAmerica I didn't today... Must mean I need to take another trip!\")\n",
      "('negative', '@VirginAmerica it\\'s really aggressive to blast obnoxious \"entertainment\" in your guests\\' faces &amp; they have little recourse')\n",
      "('negative', \"@VirginAmerica and it's a really big bad thing about it\")\n",
      "('negative', \"@VirginAmerica seriously would pay $30 a flight for seats that didn't have this playing.\\nit's really the only bad thing about flying VA\")\n",
      "('positive', '@VirginAmerica yes, nearly every time I fly VX this “ear worm” won’t go away :)')\n",
      "('neutral', '@VirginAmerica Really missed a prime opportunity for Men Without Hats parody, there. https://t.co/mWpG7grEZP')\n",
      "('positive', \"@virginamerica Well, I didn't…but NOW I DO! :-D\")\n",
      "('positive', \"@VirginAmerica it was amazing, and arrived an hour early. You're too good to me.\")\n"
     ]
    }
   ],
   "source": [
    "for _, v in enumerate(\n",
    "    zip(data[\"airline_sentiment\"][:10].values, data[\"text\"][:10].values)\n",
    "):\n",
    "    print(v)"
   ]
  },
  {
   "cell_type": "code",
   "execution_count": 8,
   "metadata": {},
   "outputs": [
    {
     "data": {
      "text/plain": [
       "array([1, 2, 1, ..., 1, 0, 1], dtype=int64)"
      ]
     },
     "execution_count": 8,
     "metadata": {},
     "output_type": "execute_result"
    }
   ],
   "source": [
    "labels = (\n",
    "    data[\"airline_sentiment\"]\n",
    "    .replace({\"negative\": 0, \"neutral\": 1, \"positive\": 2})\n",
    "    .values\n",
    ")\n",
    "\n",
    "labels"
   ]
  },
  {
   "cell_type": "markdown",
   "metadata": {},
   "source": [
    "## Removing words/stemming"
   ]
  },
  {
   "cell_type": "code",
   "execution_count": 9,
   "metadata": {},
   "outputs": [
    {
     "name": "stdout",
     "output_type": "stream",
     "text": [
      "[['VirginAmerica', 'What', 'dhepburn', 'said'], ['VirginAmerica', 'plus', 'you', 've', 'added', 'commercials', 'to', 'the', 'experience', 'tacky'], ['VirginAmerica', 'I', 'didn', 't', 'today', 'Must', 'mean', 'I', 'need', 'to', 'take', 'another', 'trip'], ['VirginAmerica', 'it', 's', 'really', 'aggressive', 'to', 'blast', 'obnoxious', 'entertainment', 'in', 'your', 'guests', 'faces', 'amp', 'they', 'have', 'little', 'recourse'], ['VirginAmerica', 'and', 'it', 's', 'a', 'really', 'big', 'bad', 'thing', 'about', 'it']]\n"
     ]
    }
   ],
   "source": [
    "# Rebuilding the corpus for token extraction\n",
    "\n",
    "stop_words = stopwords.words(\"english\")\n",
    "stemmer = PorterStemmer()\n",
    "\n",
    "patterns = [\n",
    "    r\"http\\S+\",  # Get rid of links\n",
    "    r\"@\\S+\",  # Get rid of mentions\n",
    "    r\"\\n\",  # Get rid of newline chars\n",
    "    r\"0x\\S+\",  # Get rid of weird unicode byte strings\n",
    "]\n",
    "\n",
    "pattern = \"|\".join(\"(%s)\" % p for p in patterns)\n",
    "rm_reg = re.compile(pattern)\n",
    "\n",
    "\n",
    "def stop_removal(w):\n",
    "    if w not in stop_words:\n",
    "        return True\n",
    "    else:\n",
    "        return False\n",
    "\n",
    "\n",
    "def perform_preprocessing(regex=True, stop=True, stem=True):\n",
    "    corpus = []\n",
    "    for i, tweet in data[\"text\"].items():\n",
    "        if regex:\n",
    "            tweet = rm_reg.sub(\"\", tweet.lower())\n",
    "\n",
    "        words = re.findall(\"\\w+\", tweet)\n",
    "\n",
    "        if stop:\n",
    "            words = filter(stop_removal, words)\n",
    "\n",
    "        if stem:\n",
    "            words = [stemmer.stem(word) for word in words]\n",
    "\n",
    "        corpus.append([w for w in words])\n",
    "\n",
    "    return corpus\n",
    "\n",
    "\n",
    "unalt_corpus = perform_preprocessing(regex=False, stop=False, stem=False)\n",
    "\n",
    "print(unalt_corpus[:5])"
   ]
  },
  {
   "cell_type": "code",
   "execution_count": 10,
   "metadata": {},
   "outputs": [
    {
     "name": "stdout",
     "output_type": "stream",
     "text": [
      "[['said'], ['plu', 'ad', 'commerci', 'experi', 'tacki'], ['today', 'must', 'mean', 'need', 'take', 'anoth', 'trip'], ['realli', 'aggress', 'blast', 'obnoxi', 'entertain', 'guest', 'face', 'amp', 'littl', 'recours'], ['realli', 'big', 'bad', 'thing']]\n"
     ]
    }
   ],
   "source": [
    "alt_corpus = perform_preprocessing()\n",
    "print(alt_corpus[:5])"
   ]
  },
  {
   "cell_type": "markdown",
   "metadata": {},
   "source": [
    "## Tokenizing"
   ]
  },
  {
   "cell_type": "code",
   "execution_count": 12,
   "metadata": {},
   "outputs": [
    {
     "name": "stdout",
     "output_type": "stream",
     "text": [
      "Dictionary size 15090 words\n",
      "across 14640 tweets.\n",
      "Dictionary size 10275 words\n",
      "across 14640 tweets.\n"
     ]
    }
   ],
   "source": [
    "from keras.preprocessing.text import Tokenizer\n",
    "# Constructing the tokenizer and word index\n",
    "def build_tokenizer(corpus):\n",
    "    tokenizer = Tokenizer()\n",
    "    tokenizer.fit_on_texts(corpus)\n",
    "    # + 1 accounts for any unknown/null words\n",
    "    dict_size = len(tokenizer.word_index) + 1\n",
    "\n",
    "    print(f\"Dictionary size {dict_size} words\")\n",
    "    print(f\"across {len(corpus)} tweets.\")\n",
    "\n",
    "    return tokenizer, dict_size\n",
    "\n",
    "\n",
    "unalt_tokenizer, unalt_size = build_tokenizer(unalt_corpus)\n",
    "alt_tokenizer, alt_size = build_tokenizer(alt_corpus)"
   ]
  },
  {
   "cell_type": "code",
   "execution_count": 13,
   "metadata": {},
   "outputs": [
    {
     "data": {
      "image/png": "[encoded data removed]",
      "text/plain": [
       "<Figure size 600x400 with 1 Axes>"
      ]
     },
     "metadata": {},
     "output_type": "display_data"
    }
   ],
   "source": [
    "fig, ax = plt.subplots(1, figsize=(6, 4))\n",
    "rect1 = ax.bar([0], [unalt_size], width=0.5, color=\"tab:purple\")\n",
    "rect2 = ax.bar([1], [alt_size], width=0.5, color=\"tab:blue\")\n",
    "plt.title(\"Vocab Size after Word Removal/Lemmatize\", fontweight=\"bold\")\n",
    "plt.ylabel(\"Vocab Size\", fontweight=\"bold\")\n",
    "ax.set_xticks([0, 1], labels=[\"unaltered\", \"altered\"])\n",
    "plt.show()"
   ]
  },
  {
   "cell_type": "code",
   "execution_count": 14,
   "metadata": {},
   "outputs": [
    {
     "name": "stdout",
     "output_type": "stream",
     "text": [
      "['VirginAmerica', 'What', 'dhepburn', 'said']\n",
      "[81, 52, 6505, 227] \n",
      "\n",
      "['VirginAmerica', 'plus', 'you', 've', 'added', 'commercials', 'to', 'the', 'experience', 'tacky']\n",
      "[81, 553, 5, 90, 1139, 2479, 1, 3, 202, 6506] \n",
      "\n",
      "['VirginAmerica', 'I', 'didn', 't', 'today', 'Must', 'mean', 'I', 'need', 'to', 'take', 'another', 'trip']\n",
      "[81, 2, 203, 11, 100, 776, 573, 2, 78, 1, 157, 151, 194] \n",
      "\n",
      "Longest tweet length: 35\n"
     ]
    }
   ],
   "source": [
    "# Performing tokenization and padding\n",
    "def tokenize(tokenizer, corpus):\n",
    "    # Tokenize\n",
    "    input_sequences = []\n",
    "    new_labels = []\n",
    "    for i, tweet in enumerate(corpus):\n",
    "        tokens = tokenizer.texts_to_sequences([tweet])[0]\n",
    "        if len(tokens) == 0:\n",
    "            tokens = [len(tokenizer.word_index) + 1]\n",
    "        input_sequences.append(tokens)\n",
    "\n",
    "        if i < 3:\n",
    "            print(tweet)\n",
    "            print(tokens, \"\\n\")\n",
    "\n",
    "    # Pad\n",
    "    max_len = max([len(x) for x in input_sequences])\n",
    "    print(f\"Longest tweet length: {max_len}\")\n",
    "    return input_sequences\n",
    "\n",
    "\n",
    "unalt_input = tokenize(unalt_tokenizer, unalt_corpus)"
   ]
  },
  {
   "cell_type": "code",
   "execution_count": 15,
   "metadata": {},
   "outputs": [
    {
     "name": "stdout",
     "output_type": "stream",
     "text": [
      "['said']\n",
      "[139] \n",
      "\n",
      "['plu', 'ad', 'commerci', 'experi', 'tacki']\n",
      "[433, 519, 1046, 114, 4831] \n",
      "\n",
      "['today', 'must', 'mean', 'need', 'take', 'anoth', 'trip']\n",
      "[40, 620, 260, 17, 50, 82, 106] \n",
      "\n",
      "Longest tweet length: 25\n"
     ]
    }
   ],
   "source": [
    "alt_input = tokenize(alt_tokenizer, alt_corpus)"
   ]
  },
  {
   "attachments": {},
   "cell_type": "markdown",
   "metadata": {},
   "source": [
    "# 2. Preparing the Data"
   ]
  },
  {
   "attachments": {},
   "cell_type": "markdown",
   "metadata": {},
   "source": [
    "## 2.1 Loading Torch modules"
   ]
  },
  {
   "cell_type": "code",
   "execution_count": 95,
   "metadata": {},
   "outputs": [],
   "source": [
    "import torch\n",
    "import torch.utils.data as D\n",
    "import torch.nn as nn\n",
    "import torch.nn.functional as F\n",
    "from torch.nn.utils.rnn import (\n",
    "    pack_sequence,\n",
    "    unpack_sequence,\n",
    "    pad_sequence,\n",
    "    unpad_sequence,\n",
    ")\n",
    "\n",
    "DEVICE = \"cuda:0\" if torch.cuda.is_available() else \"cpu\"\n",
    "DTYPE = torch.float32"
   ]
  },
  {
   "attachments": {},
   "cell_type": "markdown",
   "metadata": {},
   "source": [
    "## 2.2 Dataset Class"
   ]
  },
  {
   "cell_type": "code",
   "execution_count": 155,
   "metadata": {},
   "outputs": [],
   "source": [
    "def transform_pad(x):\n",
    "    \"\"\"Required for embeddings. Pads all sequences to max length.\"\"\"\n",
    "    new_x = []\n",
    "    for sample in x:\n",
    "        # Unsqueeze here just adds another dimension at dim=1\n",
    "        # Effectively this is saying that we have T timesteps with 1 feature\n",
    "        _sample = torch.tensor(sample, device=DEVICE, dtype=torch.long)\n",
    "        new_x.append(_sample)\n",
    "\n",
    "    # Pad\n",
    "    new_x = pad_sequence(new_x, batch_first=True)\n",
    "    return new_x\n",
    "\n",
    "\n",
    "def transform_pack(x):\n",
    "    \"\"\"Required for encoded sequence\"\"\"\n",
    "    lengths = list(map(len, alt_input))\n",
    "    max_len = max(lengths)\n",
    "    return\n",
    "\n",
    "\n",
    "def target_transform(y):\n",
    "    new_y = []\n",
    "    for target in y:\n",
    "        _target = torch.tensor(target, device=DEVICE).long() # One hot only works on long() data type\n",
    "        new_y.append(F.one_hot(_target, num_classes=3).half()) # Convert to float16 to compute loss later\n",
    "\n",
    "    return new_y\n",
    "\n",
    "\n",
    "class AirlineData(D.Dataset):\n",
    "    def __init__(\n",
    "        self,\n",
    "        data: list,\n",
    "        targets: list,\n",
    "        transform: Optional[Callable] = None,\n",
    "        target_transform: Optional[Callable] = None,\n",
    "    ):\n",
    "        super().__init__()\n",
    "        self.data = transform(data) if transform else data\n",
    "        self.targets = target_transform(targets) if target_transform else targets\n",
    "        self.num_classes = np.unique(targets)\n",
    "\n",
    "    def __len__(self):\n",
    "        return len(self.data)\n",
    "\n",
    "    def __getitem__(self, idx):\n",
    "        return (self.data[idx], self.targets[idx])\n",
    "\n",
    "\n",
    "alt_airline_data = AirlineData(alt_input, labels, transform_pad, target_transform)\n",
    "#unalt_airline_data = AirlineData(unalt_input, labels, transform_pad, target_transform)"
   ]
  },
  {
   "attachments": {},
   "cell_type": "markdown",
   "metadata": {},
   "source": [
    "## 2.3 Setting up DataLoaders"
   ]
  },
  {
   "cell_type": "code",
   "execution_count": 157,
   "metadata": {},
   "outputs": [],
   "source": [
    "rand_gen = torch.Generator().manual_seed(192)\n",
    "train, val, test = D.random_split(alt_airline_data, [0.7, 0.15, 0.15], generator=rand_gen)\n",
    "\n",
    "# Data loaders\n",
    "train_loader = D.DataLoader(train, 1024, shuffle=True)\n",
    "val_loader = D.DataLoader(val, 1024)\n",
    "test_loader = D.DataLoader(test, 1024)"
   ]
  },
  {
   "attachments": {},
   "cell_type": "markdown",
   "metadata": {},
   "source": [
    "# 3. Training"
   ]
  },
  {
   "attachments": {},
   "cell_type": "markdown",
   "metadata": {},
   "source": [
    "## 3.1 Model Class"
   ]
  },
  {
   "cell_type": "code",
   "execution_count": null,
   "metadata": {},
   "outputs": [
    {
     "data": {
      "text/plain": [
       "EmbeddingModel(\n",
       "  (_embedding): Embedding(10288, 100, padding_idx=0)\n",
       "  (_batchnorm): BatchNorm1d(25, eps=1e-05, momentum=0.1, affine=True, track_running_stats=True)\n",
       "  (_gru): GRU(100, 64, batch_first=True)\n",
       "  (_ff): Linear(in_features=64, out_features=32, bias=True)\n",
       "  (_out): Linear(in_features=32, out_features=3, bias=True)\n",
       ")"
      ]
     },
     "execution_count": 247,
     "metadata": {},
     "output_type": "execute_result"
    }
   ],
   "source": [
    "class EmbeddingModel(nn.Module):\n",
    "    def __init__(\n",
    "        self,\n",
    "        vocab_size: int,\n",
    "        padded_size: int,\n",
    "        embedding_dim: int,\n",
    "        hidden_dim: int,\n",
    "        num_classes: int,\n",
    "    ) -> torch.tensor:\n",
    "        super().__init__()\n",
    "        self._num_classes = num_classes\n",
    "\n",
    "        self._embedding = nn.Embedding(\n",
    "            vocab_size + 1, embedding_dim, padding_idx=0, norm_type=2.0\n",
    "        )\n",
    "        self._batchnorm = nn.BatchNorm1d(padded_size)\n",
    "        self._gru = nn.GRU(embedding_dim, hidden_dim, batch_first=True)\n",
    "        self._ff = nn.Linear(hidden_dim, hidden_dim // 2)\n",
    "        self._out = nn.Linear(hidden_dim // 2, num_classes)\n",
    "\n",
    "    def forward(self, x):\n",
    "        _x = self._embedding(x)\n",
    "        #_x = self._batchnorm(_x)\n",
    "        # Take only the final hidden state of GRU\n",
    "        _, _x = self._gru(_x)\n",
    "        # Tanh happens automatically after GRU\n",
    "        _x = F.dropout(_x, p=0.15)\n",
    "        _x = self._ff(_x)\n",
    "        _x = F.relu(_x, inplace=True)\n",
    "        _x = F.dropout(_x, p=0.1)\n",
    "        _x = self._out(_x)\n",
    "        pred = F.softmax(_x, dim=-1).squeeze(0)\n",
    "        return pred\n",
    "\n",
    "    def get_embedding(self):\n",
    "        return self._embedding.weight\n",
    "    \n",
    "    @property\n",
    "    def num_parameters(self):\n",
    "        total_param = 0\n",
    "        for p in self.parameters():\n",
    "            total_param += len(p.ravel())\n",
    "        \n",
    "        return total_param\n",
    "        \n",
    "\n",
    "\n"
   ]
  },
  {
   "cell_type": "code",
   "execution_count": 235,
   "metadata": {},
   "outputs": [
    {
     "data": {
      "text/plain": [
       "1062901"
      ]
     },
     "execution_count": 235,
     "metadata": {},
     "output_type": "execute_result"
    }
   ],
   "source": [
    "em.num_parameters"
   ]
  },
  {
   "cell_type": "code",
   "execution_count": 236,
   "metadata": {},
   "outputs": [
    {
     "name": "stdout",
     "output_type": "stream",
     "text": [
      "tensor([[0.3488, 0.3132, 0.3380],\n",
      "        [0.3509, 0.3132, 0.3359],\n",
      "        [0.3541, 0.3177, 0.3283],\n",
      "        ...,\n",
      "        [0.3319, 0.3224, 0.3457],\n",
      "        [0.3383, 0.3170, 0.3446],\n",
      "        [0.3424, 0.3127, 0.3449]], device='cuda:0', grad_fn=<SqueezeBackward1>)\n"
     ]
    }
   ],
   "source": [
    "for i, (data, label) in enumerate(train_loader):\n",
    "    print(em(data))\n",
    "    break"
   ]
  },
  {
   "cell_type": "code",
   "execution_count": 244,
   "metadata": {},
   "outputs": [],
   "source": [
    "from math import ceil\n",
    "from IPython.display import clear_output\n",
    "from torchmetrics import Accuracy\n",
    "\n",
    "\n",
    "def train_model(\n",
    "    model: nn.Module,\n",
    "    train_loader: D.DataLoader,\n",
    "    val_loader: D.DataLoader,\n",
    "    optimizer,\n",
    "    criterion,\n",
    "    epochs=100,\n",
    "):\n",
    "    history = {\"train\": [], \"val\": []}\n",
    "    num_train_batches = ceil(len(train_loader.dataset) / train_loader.batch_size)\n",
    "    num_val_batches = ceil(len(val_loader.dataset) / val_loader.batch_size)\n",
    "    mca_train = Accuracy(task=\"multiclass\", num_classes=model._num_classes).to(\n",
    "        device=DEVICE\n",
    "    )\n",
    "    mca_val = mca_train.clone()\n",
    "\n",
    "    for epoch in range(epochs):\n",
    "        sum_train_loss = 0\n",
    "        for step, (train_batch, train_labels) in enumerate(train_loader):\n",
    "            ###########\n",
    "            # Forward #\n",
    "            ###########\n",
    "            model.train()\n",
    "            preds = model(train_batch)\n",
    "\n",
    "            ###################\n",
    "            # Compute Metrics #\n",
    "            ###################\n",
    "            train_loss = criterion(preds, train_labels)\n",
    "            model.eval()\n",
    "            with torch.inference_mode():\n",
    "                # train_acc = compute_acc(preds, train_labels)\n",
    "                train_acc = mca_train.forward(\n",
    "                    preds.to(torch.float16), torch.argmax(train_labels, dim=1)\n",
    "                )\n",
    "\n",
    "                sum_train_loss += train_loss.item()\n",
    "            \n",
    "            ###############\n",
    "            # Make output #\n",
    "            ###############\n",
    "            num_bars = int(((step / num_train_batches) * 20)) + 1\n",
    "            completion_string = \"=\" * num_bars\n",
    "            completion_string += \"-\" * (20 - num_bars)\n",
    "            output = (\n",
    "                \"Epoch: {} \\t [{}] \\t Train loss: {:.3f} \\t Train acc: {:.3f}\".format(\n",
    "                    epoch,\n",
    "                    completion_string,\n",
    "                    sum_train_loss / (step + 1),\n",
    "                    mca_train.compute().item(),\n",
    "                )\n",
    "            )\n",
    "            print(output, end=\"\\r\")\n",
    "\n",
    "            #################\n",
    "            # Backpropogate #\n",
    "            #################\n",
    "            optimizer.zero_grad()\n",
    "            train_loss.backward()\n",
    "            optimizer.step()\n",
    "\n",
    "        avg_train_loss = sum_train_loss / num_train_batches\n",
    "\n",
    "        ##############\n",
    "        # Validation #\n",
    "        ##############\n",
    "        model.eval()  # Turn off batch norm\n",
    "        with torch.inference_mode():\n",
    "            sum_val_loss = 0\n",
    "            for _, (val_batch, val_labels) in enumerate(val_loader):\n",
    "                preds = model(val_batch)\n",
    "                targets = val_labels\n",
    "\n",
    "                val_loss = criterion(preds, targets)\n",
    "                sum_val_loss += val_loss.item()\n",
    "\n",
    "                mca_val.update(preds.to(torch.float16), torch.argmax(targets, dim=1))\n",
    "\n",
    "            avg_val_loss = sum_val_loss / num_val_batches\n",
    "\n",
    "            print(\n",
    "                \"\\nAvg Train Loss: {:.3f}\\\n",
    "                Avg Val Loss: {:.3f}\\\n",
    "                Avg Train Acc: {:.3f}\\\n",
    "                Avg Val Acc: {:.3f}\".format(\n",
    "                    avg_train_loss,\n",
    "                    avg_val_loss,\n",
    "                    mca_train.compute().item(),\n",
    "                    mca_val.compute().item(),\n",
    "                )\n",
    "            )\n",
    "\n",
    "            print(\"-\" * 140, \"\\n\")\n",
    "\n",
    "        mca_train.reset()\n",
    "        mca_val.reset()\n",
    "\n",
    "        ##########\n",
    "        # Record #\n",
    "        ##########\n",
    "        history[\"train\"].append(avg_train_loss)\n",
    "        history[\"val\"].append(avg_val_loss)\n",
    "\n",
    "    return history"
   ]
  },
  {
   "cell_type": "code",
   "execution_count": 325,
   "metadata": {},
   "outputs": [
    {
     "name": "stdout",
     "output_type": "stream",
     "text": [
      "1,042,293\n"
     ]
    }
   ],
   "source": [
    "vocab_size = torch.max(alt_airline_data.data) + 1\n",
    "padded_size = alt_airline_data.data.shape[-1]\n",
    "\n",
    "model = EmbeddingModel(\n",
    "    vocab_size, padded_size, embedding_dim=100, hidden_dim=32, num_classes=3\n",
    ")\n",
    "model.to(device=DEVICE, dtype=DTYPE)\n",
    "\n",
    "print(f\"{model.num_parameters:,}\")"
   ]
  },
  {
   "cell_type": "code",
   "execution_count": 326,
   "metadata": {},
   "outputs": [
    {
     "name": "stdout",
     "output_type": "stream",
     "text": [
      "Epoch: 0 \t [===================-] \t Train loss: 1.068 \t Train acc: 0.633\n",
      "Avg Train Loss: 1.068                Avg Val Loss: 1.068                Avg Train Acc: 0.633                Avg Val Acc: 0.619\n",
      "-------------------------------------------------------------------------------------------------------------------------------------------- \n",
      "\n",
      "Epoch: 1 \t [===================-] \t Train loss: 1.057 \t Train acc: 0.633\n",
      "Avg Train Loss: 1.057                Avg Val Loss: 1.058                Avg Train Acc: 0.633                Avg Val Acc: 0.619\n",
      "-------------------------------------------------------------------------------------------------------------------------------------------- \n",
      "\n",
      "Epoch: 2 \t [===================-] \t Train loss: 1.047 \t Train acc: 0.633\n",
      "Avg Train Loss: 1.047                Avg Val Loss: 1.044                Avg Train Acc: 0.633                Avg Val Acc: 0.619\n",
      "-------------------------------------------------------------------------------------------------------------------------------------------- \n",
      "\n",
      "Epoch: 3 \t [===================-] \t Train loss: 1.023 \t Train acc: 0.633\n",
      "Avg Train Loss: 1.023                Avg Val Loss: 1.008                Avg Train Acc: 0.633                Avg Val Acc: 0.619\n",
      "-------------------------------------------------------------------------------------------------------------------------------------------- \n",
      "\n",
      "Epoch: 4 \t [===================-] \t Train loss: 0.953 \t Train acc: 0.633\n",
      "Avg Train Loss: 0.953                Avg Val Loss: 0.968                Avg Train Acc: 0.633                Avg Val Acc: 0.619\n",
      "-------------------------------------------------------------------------------------------------------------------------------------------- \n",
      "\n",
      "Epoch: 5 \t [===================-] \t Train loss: 0.971 \t Train acc: 0.633\n",
      "Avg Train Loss: 0.971                Avg Val Loss: 0.956                Avg Train Acc: 0.633                Avg Val Acc: 0.619\n",
      "-------------------------------------------------------------------------------------------------------------------------------------------- \n",
      "\n",
      "Epoch: 6 \t [===================-] \t Train loss: 0.927 \t Train acc: 0.633\n",
      "Avg Train Loss: 0.927                Avg Val Loss: 0.954                Avg Train Acc: 0.633                Avg Val Acc: 0.619\n",
      "-------------------------------------------------------------------------------------------------------------------------------------------- \n",
      "\n",
      "Epoch: 7 \t [===================-] \t Train loss: 0.911 \t Train acc: 0.633\n",
      "Avg Train Loss: 0.911                Avg Val Loss: 0.953                Avg Train Acc: 0.633                Avg Val Acc: 0.619\n",
      "-------------------------------------------------------------------------------------------------------------------------------------------- \n",
      "\n",
      "Epoch: 8 \t [===================-] \t Train loss: 0.922 \t Train acc: 0.633\n",
      "Avg Train Loss: 0.922                Avg Val Loss: 0.955                Avg Train Acc: 0.633                Avg Val Acc: 0.619\n",
      "-------------------------------------------------------------------------------------------------------------------------------------------- \n",
      "\n",
      "Epoch: 9 \t [===================-] \t Train loss: 0.921 \t Train acc: 0.633\n",
      "Avg Train Loss: 0.921                Avg Val Loss: 0.954                Avg Train Acc: 0.633                Avg Val Acc: 0.619\n",
      "-------------------------------------------------------------------------------------------------------------------------------------------- \n",
      "\n",
      "Epoch: 10 \t [===================-] \t Train loss: 0.942 \t Train acc: 0.633\n",
      "Avg Train Loss: 0.942                Avg Val Loss: 0.952                Avg Train Acc: 0.633                Avg Val Acc: 0.619\n",
      "-------------------------------------------------------------------------------------------------------------------------------------------- \n",
      "\n",
      "Epoch: 11 \t [===================-] \t Train loss: 0.908 \t Train acc: 0.633\n",
      "Avg Train Loss: 0.908                Avg Val Loss: 0.953                Avg Train Acc: 0.633                Avg Val Acc: 0.619\n",
      "-------------------------------------------------------------------------------------------------------------------------------------------- \n",
      "\n",
      "Epoch: 12 \t [===================-] \t Train loss: 0.908 \t Train acc: 0.633\n",
      "Avg Train Loss: 0.908                Avg Val Loss: 0.952                Avg Train Acc: 0.633                Avg Val Acc: 0.619\n",
      "-------------------------------------------------------------------------------------------------------------------------------------------- \n",
      "\n",
      "Epoch: 13 \t [===================-] \t Train loss: 0.941 \t Train acc: 0.633\n",
      "Avg Train Loss: 0.941                Avg Val Loss: 0.953                Avg Train Acc: 0.633                Avg Val Acc: 0.619\n",
      "-------------------------------------------------------------------------------------------------------------------------------------------- \n",
      "\n",
      "Epoch: 14 \t [===================-] \t Train loss: 0.941 \t Train acc: 0.633\n",
      "Avg Train Loss: 0.941                Avg Val Loss: 0.953                Avg Train Acc: 0.633                Avg Val Acc: 0.619\n",
      "-------------------------------------------------------------------------------------------------------------------------------------------- \n",
      "\n",
      "Epoch: 15 \t [===================-] \t Train loss: 0.908 \t Train acc: 0.633\n",
      "Avg Train Loss: 0.908                Avg Val Loss: 0.952                Avg Train Acc: 0.633                Avg Val Acc: 0.619\n",
      "-------------------------------------------------------------------------------------------------------------------------------------------- \n",
      "\n",
      "Epoch: 16 \t [===================-] \t Train loss: 0.908 \t Train acc: 0.633\n",
      "Avg Train Loss: 0.908                Avg Val Loss: 0.952                Avg Train Acc: 0.633                Avg Val Acc: 0.619\n",
      "-------------------------------------------------------------------------------------------------------------------------------------------- \n",
      "\n",
      "Epoch: 17 \t [===================-] \t Train loss: 0.908 \t Train acc: 0.633\n",
      "Avg Train Loss: 0.908                Avg Val Loss: 0.953                Avg Train Acc: 0.633                Avg Val Acc: 0.619\n",
      "-------------------------------------------------------------------------------------------------------------------------------------------- \n",
      "\n",
      "Epoch: 18 \t [===================-] \t Train loss: 0.930 \t Train acc: 0.633\n",
      "Avg Train Loss: 0.930                Avg Val Loss: 0.952                Avg Train Acc: 0.633                Avg Val Acc: 0.619\n",
      "-------------------------------------------------------------------------------------------------------------------------------------------- \n",
      "\n",
      "Epoch: 19 \t [===================-] \t Train loss: 0.919 \t Train acc: 0.633\n",
      "Avg Train Loss: 0.919                Avg Val Loss: 0.952                Avg Train Acc: 0.633                Avg Val Acc: 0.619\n",
      "-------------------------------------------------------------------------------------------------------------------------------------------- \n",
      "\n",
      "Epoch: 20 \t [===================-] \t Train loss: 0.941 \t Train acc: 0.633\n",
      "Avg Train Loss: 0.941                Avg Val Loss: 0.953                Avg Train Acc: 0.633                Avg Val Acc: 0.619\n",
      "-------------------------------------------------------------------------------------------------------------------------------------------- \n",
      "\n",
      "Epoch: 21 \t [===================-] \t Train loss: 0.919 \t Train acc: 0.633\n",
      "Avg Train Loss: 0.919                Avg Val Loss: 0.952                Avg Train Acc: 0.633                Avg Val Acc: 0.619\n",
      "-------------------------------------------------------------------------------------------------------------------------------------------- \n",
      "\n",
      "Epoch: 22 \t [===================-] \t Train loss: 0.908 \t Train acc: 0.633\n",
      "Avg Train Loss: 0.908                Avg Val Loss: 0.952                Avg Train Acc: 0.633                Avg Val Acc: 0.619\n",
      "-------------------------------------------------------------------------------------------------------------------------------------------- \n",
      "\n",
      "Epoch: 23 \t [===================-] \t Train loss: 0.907 \t Train acc: 0.633\n",
      "Avg Train Loss: 0.907                Avg Val Loss: 0.952                Avg Train Acc: 0.633                Avg Val Acc: 0.619\n",
      "-------------------------------------------------------------------------------------------------------------------------------------------- \n",
      "\n",
      "Epoch: 24 \t [===================-] \t Train loss: 0.941 \t Train acc: 0.633\n",
      "Avg Train Loss: 0.941                Avg Val Loss: 0.952                Avg Train Acc: 0.633                Avg Val Acc: 0.619\n",
      "-------------------------------------------------------------------------------------------------------------------------------------------- \n",
      "\n",
      "Epoch: 25 \t [===================-] \t Train loss: 0.930 \t Train acc: 0.633\n",
      "Avg Train Loss: 0.930                Avg Val Loss: 0.952                Avg Train Acc: 0.633                Avg Val Acc: 0.619\n",
      "-------------------------------------------------------------------------------------------------------------------------------------------- \n",
      "\n",
      "Epoch: 26 \t [===================-] \t Train loss: 0.930 \t Train acc: 0.633\n",
      "Avg Train Loss: 0.930                Avg Val Loss: 0.951                Avg Train Acc: 0.633                Avg Val Acc: 0.619\n",
      "-------------------------------------------------------------------------------------------------------------------------------------------- \n",
      "\n",
      "Epoch: 27 \t [===================-] \t Train loss: 0.896 \t Train acc: 0.633\n",
      "Avg Train Loss: 0.896                Avg Val Loss: 0.951                Avg Train Acc: 0.633                Avg Val Acc: 0.619\n",
      "-------------------------------------------------------------------------------------------------------------------------------------------- \n",
      "\n",
      "Epoch: 28 \t [===================-] \t Train loss: 0.906 \t Train acc: 0.633\n",
      "Avg Train Loss: 0.906                Avg Val Loss: 0.950                Avg Train Acc: 0.633                Avg Val Acc: 0.619\n",
      "-------------------------------------------------------------------------------------------------------------------------------------------- \n",
      "\n",
      "Epoch: 29 \t [===================-] \t Train loss: 0.916 \t Train acc: 0.633\n",
      "Avg Train Loss: 0.916                Avg Val Loss: 0.947                Avg Train Acc: 0.633                Avg Val Acc: 0.619\n",
      "-------------------------------------------------------------------------------------------------------------------------------------------- \n",
      "\n",
      "Epoch: 30 \t [===================-] \t Train loss: 0.912 \t Train acc: 0.633\n",
      "Avg Train Loss: 0.912                Avg Val Loss: 0.938                Avg Train Acc: 0.633                Avg Val Acc: 0.619\n",
      "-------------------------------------------------------------------------------------------------------------------------------------------- \n",
      "\n",
      "Epoch: 31 \t [===================-] \t Train loss: 0.894 \t Train acc: 0.633\n",
      "Avg Train Loss: 0.894                Avg Val Loss: 0.913                Avg Train Acc: 0.633                Avg Val Acc: 0.619\n",
      "-------------------------------------------------------------------------------------------------------------------------------------------- \n",
      "\n",
      "Epoch: 32 \t [===================-] \t Train loss: 0.864 \t Train acc: 0.633\n",
      "Avg Train Loss: 0.864                Avg Val Loss: 0.887                Avg Train Acc: 0.633                Avg Val Acc: 0.619\n",
      "-------------------------------------------------------------------------------------------------------------------------------------------- \n",
      "\n",
      "Epoch: 33 \t [===================-] \t Train loss: 0.843 \t Train acc: 0.634\n",
      "Avg Train Loss: 0.843                Avg Val Loss: 0.877                Avg Train Acc: 0.634                Avg Val Acc: 0.639\n",
      "-------------------------------------------------------------------------------------------------------------------------------------------- \n",
      "\n",
      "Epoch: 34 \t [===================-] \t Train loss: 0.820 \t Train acc: 0.713\n",
      "Avg Train Loss: 0.820                Avg Val Loss: 0.870                Avg Train Acc: 0.713                Avg Val Acc: 0.671\n",
      "-------------------------------------------------------------------------------------------------------------------------------------------- \n",
      "\n",
      "Epoch: 35 \t [===================-] \t Train loss: 0.811 \t Train acc: 0.742\n",
      "Avg Train Loss: 0.811                Avg Val Loss: 0.863                Avg Train Acc: 0.742                Avg Val Acc: 0.678\n",
      "-------------------------------------------------------------------------------------------------------------------------------------------- \n",
      "\n",
      "Epoch: 36 \t [===================-] \t Train loss: 0.787 \t Train acc: 0.745\n",
      "Avg Train Loss: 0.787                Avg Val Loss: 0.866                Avg Train Acc: 0.745                Avg Val Acc: 0.670\n",
      "-------------------------------------------------------------------------------------------------------------------------------------------- \n",
      "\n",
      "Epoch: 37 \t [===================-] \t Train loss: 0.787 \t Train acc: 0.756\n",
      "Avg Train Loss: 0.787                Avg Val Loss: 0.866                Avg Train Acc: 0.756                Avg Val Acc: 0.672\n",
      "-------------------------------------------------------------------------------------------------------------------------------------------- \n",
      "\n",
      "Epoch: 38 \t [===================-] \t Train loss: 0.803 \t Train acc: 0.758\n",
      "Avg Train Loss: 0.803                Avg Val Loss: 0.868                Avg Train Acc: 0.758                Avg Val Acc: 0.673\n",
      "-------------------------------------------------------------------------------------------------------------------------------------------- \n",
      "\n",
      "Epoch: 39 \t [===================-] \t Train loss: 0.782 \t Train acc: 0.758\n",
      "Avg Train Loss: 0.782                Avg Val Loss: 0.870                Avg Train Acc: 0.758                Avg Val Acc: 0.663\n",
      "-------------------------------------------------------------------------------------------------------------------------------------------- \n",
      "\n",
      "Epoch: 40 \t [===================-] \t Train loss: 0.768 \t Train acc: 0.755\n",
      "Avg Train Loss: 0.768                Avg Val Loss: 0.872                Avg Train Acc: 0.755                Avg Val Acc: 0.666\n",
      "-------------------------------------------------------------------------------------------------------------------------------------------- \n",
      "\n",
      "Epoch: 41 \t [===================-] \t Train loss: 0.754 \t Train acc: 0.767\n",
      "Avg Train Loss: 0.754                Avg Val Loss: 0.868                Avg Train Acc: 0.767                Avg Val Acc: 0.670\n",
      "-------------------------------------------------------------------------------------------------------------------------------------------- \n",
      "\n",
      "Epoch: 42 \t [===================-] \t Train loss: 0.781 \t Train acc: 0.768\n",
      "Avg Train Loss: 0.781                Avg Val Loss: 0.865                Avg Train Acc: 0.768                Avg Val Acc: 0.665\n",
      "-------------------------------------------------------------------------------------------------------------------------------------------- \n",
      "\n",
      "Epoch: 43 \t [===================-] \t Train loss: 0.758 \t Train acc: 0.768\n",
      "Avg Train Loss: 0.758                Avg Val Loss: 0.864                Avg Train Acc: 0.768                Avg Val Acc: 0.673\n",
      "-------------------------------------------------------------------------------------------------------------------------------------------- \n",
      "\n",
      "Epoch: 44 \t [===================-] \t Train loss: 0.774 \t Train acc: 0.772\n",
      "Avg Train Loss: 0.774                Avg Val Loss: 0.863                Avg Train Acc: 0.772                Avg Val Acc: 0.673\n",
      "-------------------------------------------------------------------------------------------------------------------------------------------- \n",
      "\n",
      "Epoch: 45 \t [===================-] \t Train loss: 0.746 \t Train acc: 0.781\n",
      "Avg Train Loss: 0.746                Avg Val Loss: 0.862                Avg Train Acc: 0.781                Avg Val Acc: 0.678\n",
      "-------------------------------------------------------------------------------------------------------------------------------------------- \n",
      "\n",
      "Epoch: 46 \t [===================-] \t Train loss: 0.750 \t Train acc: 0.789\n",
      "Avg Train Loss: 0.750                Avg Val Loss: 0.865                Avg Train Acc: 0.789                Avg Val Acc: 0.676\n",
      "-------------------------------------------------------------------------------------------------------------------------------------------- \n",
      "\n",
      "Epoch: 47 \t [===================-] \t Train loss: 0.750 \t Train acc: 0.787\n",
      "Avg Train Loss: 0.750                Avg Val Loss: 0.863                Avg Train Acc: 0.787                Avg Val Acc: 0.668\n",
      "-------------------------------------------------------------------------------------------------------------------------------------------- \n",
      "\n",
      "Epoch: 48 \t [===================-] \t Train loss: 0.734 \t Train acc: 0.783\n",
      "Avg Train Loss: 0.734                Avg Val Loss: 0.865                Avg Train Acc: 0.783                Avg Val Acc: 0.667\n",
      "-------------------------------------------------------------------------------------------------------------------------------------------- \n",
      "\n",
      "Epoch: 49 \t [===================-] \t Train loss: 0.741 \t Train acc: 0.790\n",
      "Avg Train Loss: 0.741                Avg Val Loss: 0.856                Avg Train Acc: 0.790                Avg Val Acc: 0.684\n",
      "-------------------------------------------------------------------------------------------------------------------------------------------- \n",
      "\n",
      "Epoch: 50 \t [===================-] \t Train loss: 0.751 \t Train acc: 0.808\n",
      "Avg Train Loss: 0.751                Avg Val Loss: 0.855                Avg Train Acc: 0.808                Avg Val Acc: 0.689\n",
      "-------------------------------------------------------------------------------------------------------------------------------------------- \n",
      "\n",
      "Epoch: 51 \t [===================-] \t Train loss: 0.737 \t Train acc: 0.814\n",
      "Avg Train Loss: 0.737                Avg Val Loss: 0.851                Avg Train Acc: 0.814                Avg Val Acc: 0.689\n",
      "-------------------------------------------------------------------------------------------------------------------------------------------- \n",
      "\n",
      "Epoch: 52 \t [===================-] \t Train loss: 0.729 \t Train acc: 0.826\n",
      "Avg Train Loss: 0.729                Avg Val Loss: 0.852                Avg Train Acc: 0.826                Avg Val Acc: 0.690\n",
      "-------------------------------------------------------------------------------------------------------------------------------------------- \n",
      "\n",
      "Epoch: 53 \t [===================-] \t Train loss: 0.714 \t Train acc: 0.839\n",
      "Avg Train Loss: 0.714                Avg Val Loss: 0.841                Avg Train Acc: 0.839                Avg Val Acc: 0.704\n",
      "-------------------------------------------------------------------------------------------------------------------------------------------- \n",
      "\n",
      "Epoch: 54 \t [===================-] \t Train loss: 0.713 \t Train acc: 0.849\n",
      "Avg Train Loss: 0.713                Avg Val Loss: 0.839                Avg Train Acc: 0.849                Avg Val Acc: 0.711\n",
      "-------------------------------------------------------------------------------------------------------------------------------------------- \n",
      "\n",
      "Epoch: 55 \t [===================-] \t Train loss: 0.690 \t Train acc: 0.861\n",
      "Avg Train Loss: 0.690                Avg Val Loss: 0.840                Avg Train Acc: 0.861                Avg Val Acc: 0.712\n",
      "-------------------------------------------------------------------------------------------------------------------------------------------- \n",
      "\n",
      "Epoch: 56 \t [===================-] \t Train loss: 0.696 \t Train acc: 0.872\n",
      "Avg Train Loss: 0.696                Avg Val Loss: 0.835                Avg Train Acc: 0.872                Avg Val Acc: 0.719\n",
      "-------------------------------------------------------------------------------------------------------------------------------------------- \n",
      "\n",
      "Epoch: 57 \t [===================-] \t Train loss: 0.675 \t Train acc: 0.883\n",
      "Avg Train Loss: 0.675                Avg Val Loss: 0.834                Avg Train Acc: 0.883                Avg Val Acc: 0.719\n",
      "-------------------------------------------------------------------------------------------------------------------------------------------- \n",
      "\n",
      "Epoch: 58 \t [===================-] \t Train loss: 0.668 \t Train acc: 0.890\n",
      "Avg Train Loss: 0.668                Avg Val Loss: 0.834                Avg Train Acc: 0.890                Avg Val Acc: 0.721\n",
      "-------------------------------------------------------------------------------------------------------------------------------------------- \n",
      "\n",
      "Epoch: 59 \t [===================-] \t Train loss: 0.663 \t Train acc: 0.894\n",
      "Avg Train Loss: 0.663                Avg Val Loss: 0.836                Avg Train Acc: 0.894                Avg Val Acc: 0.718\n",
      "-------------------------------------------------------------------------------------------------------------------------------------------- \n",
      "\n",
      "Epoch: 60 \t [===================-] \t Train loss: 0.671 \t Train acc: 0.897\n",
      "Avg Train Loss: 0.671                Avg Val Loss: 0.835                Avg Train Acc: 0.897                Avg Val Acc: 0.723\n",
      "-------------------------------------------------------------------------------------------------------------------------------------------- \n",
      "\n",
      "Epoch: 61 \t [===================-] \t Train loss: 0.646 \t Train acc: 0.900\n",
      "Avg Train Loss: 0.646                Avg Val Loss: 0.832                Avg Train Acc: 0.900                Avg Val Acc: 0.724\n",
      "-------------------------------------------------------------------------------------------------------------------------------------------- \n",
      "\n",
      "Epoch: 62 \t [===================-] \t Train loss: 0.678 \t Train acc: 0.902\n",
      "Avg Train Loss: 0.678                Avg Val Loss: 0.833                Avg Train Acc: 0.902                Avg Val Acc: 0.726\n",
      "-------------------------------------------------------------------------------------------------------------------------------------------- \n",
      "\n",
      "Epoch: 63 \t [===================-] \t Train loss: 0.652 \t Train acc: 0.903\n",
      "Avg Train Loss: 0.652                Avg Val Loss: 0.831                Avg Train Acc: 0.903                Avg Val Acc: 0.727\n",
      "-------------------------------------------------------------------------------------------------------------------------------------------- \n",
      "\n",
      "Epoch: 64 \t [===================-] \t Train loss: 0.666 \t Train acc: 0.905\n",
      "Avg Train Loss: 0.666                Avg Val Loss: 0.831                Avg Train Acc: 0.905                Avg Val Acc: 0.727\n",
      "-------------------------------------------------------------------------------------------------------------------------------------------- \n",
      "\n",
      "Epoch: 65 \t [===================-] \t Train loss: 0.640 \t Train acc: 0.905\n",
      "Avg Train Loss: 0.640                Avg Val Loss: 0.837                Avg Train Acc: 0.905                Avg Val Acc: 0.724\n",
      "-------------------------------------------------------------------------------------------------------------------------------------------- \n",
      "\n",
      "Epoch: 66 \t [===================-] \t Train loss: 0.639 \t Train acc: 0.906\n",
      "Avg Train Loss: 0.639                Avg Val Loss: 0.832                Avg Train Acc: 0.906                Avg Val Acc: 0.724\n",
      "-------------------------------------------------------------------------------------------------------------------------------------------- \n",
      "\n",
      "Epoch: 67 \t [===================-] \t Train loss: 0.648 \t Train acc: 0.906\n",
      "Avg Train Loss: 0.648                Avg Val Loss: 0.838                Avg Train Acc: 0.906                Avg Val Acc: 0.724\n",
      "-------------------------------------------------------------------------------------------------------------------------------------------- \n",
      "\n",
      "Epoch: 68 \t [===================-] \t Train loss: 0.639 \t Train acc: 0.907\n",
      "Avg Train Loss: 0.639                Avg Val Loss: 0.836                Avg Train Acc: 0.907                Avg Val Acc: 0.722\n",
      "-------------------------------------------------------------------------------------------------------------------------------------------- \n",
      "\n",
      "Epoch: 69 \t [===================-] \t Train loss: 0.637 \t Train acc: 0.907\n",
      "Avg Train Loss: 0.637                Avg Val Loss: 0.836                Avg Train Acc: 0.907                Avg Val Acc: 0.722\n",
      "-------------------------------------------------------------------------------------------------------------------------------------------- \n",
      "\n",
      "Epoch: 70 \t [===================-] \t Train loss: 0.648 \t Train acc: 0.907\n",
      "Avg Train Loss: 0.648                Avg Val Loss: 0.833                Avg Train Acc: 0.907                Avg Val Acc: 0.723\n",
      "-------------------------------------------------------------------------------------------------------------------------------------------- \n",
      "\n",
      "Epoch: 71 \t [===================-] \t Train loss: 0.659 \t Train acc: 0.907\n",
      "Avg Train Loss: 0.659                Avg Val Loss: 0.833                Avg Train Acc: 0.907                Avg Val Acc: 0.724\n",
      "-------------------------------------------------------------------------------------------------------------------------------------------- \n",
      "\n",
      "Epoch: 72 \t [===================-] \t Train loss: 0.637 \t Train acc: 0.907\n",
      "Avg Train Loss: 0.637                Avg Val Loss: 0.835                Avg Train Acc: 0.907                Avg Val Acc: 0.719\n",
      "-------------------------------------------------------------------------------------------------------------------------------------------- \n",
      "\n",
      "Epoch: 73 \t [===================-] \t Train loss: 0.637 \t Train acc: 0.907\n",
      "Avg Train Loss: 0.637                Avg Val Loss: 0.833                Avg Train Acc: 0.907                Avg Val Acc: 0.723\n",
      "-------------------------------------------------------------------------------------------------------------------------------------------- \n",
      "\n",
      "Epoch: 74 \t [===================-] \t Train loss: 0.637 \t Train acc: 0.907\n",
      "Avg Train Loss: 0.637                Avg Val Loss: 0.836                Avg Train Acc: 0.907                Avg Val Acc: 0.720\n",
      "-------------------------------------------------------------------------------------------------------------------------------------------- \n",
      "\n",
      "Epoch: 75 \t [===================-] \t Train loss: 0.659 \t Train acc: 0.908\n",
      "Avg Train Loss: 0.659                Avg Val Loss: 0.837                Avg Train Acc: 0.908                Avg Val Acc: 0.722\n",
      "-------------------------------------------------------------------------------------------------------------------------------------------- \n",
      "\n",
      "Epoch: 76 \t [===================-] \t Train loss: 0.648 \t Train acc: 0.908\n",
      "Avg Train Loss: 0.648                Avg Val Loss: 0.835                Avg Train Acc: 0.908                Avg Val Acc: 0.723\n",
      "-------------------------------------------------------------------------------------------------------------------------------------------- \n",
      "\n",
      "Epoch: 77 \t [===================-] \t Train loss: 0.636 \t Train acc: 0.908\n",
      "Avg Train Loss: 0.636                Avg Val Loss: 0.834                Avg Train Acc: 0.908                Avg Val Acc: 0.726\n",
      "-------------------------------------------------------------------------------------------------------------------------------------------- \n",
      "\n",
      "Epoch: 78 \t [===================-] \t Train loss: 0.647 \t Train acc: 0.908\n",
      "Avg Train Loss: 0.647                Avg Val Loss: 0.838                Avg Train Acc: 0.908                Avg Val Acc: 0.722\n",
      "-------------------------------------------------------------------------------------------------------------------------------------------- \n",
      "\n",
      "Epoch: 79 \t [===================-] \t Train loss: 0.636 \t Train acc: 0.908\n",
      "Avg Train Loss: 0.636                Avg Val Loss: 0.839                Avg Train Acc: 0.908                Avg Val Acc: 0.720\n",
      "-------------------------------------------------------------------------------------------------------------------------------------------- \n",
      "\n",
      "Epoch: 80 \t [===================-] \t Train loss: 0.647 \t Train acc: 0.908\n",
      "Avg Train Loss: 0.647                Avg Val Loss: 0.839                Avg Train Acc: 0.908                Avg Val Acc: 0.721\n",
      "-------------------------------------------------------------------------------------------------------------------------------------------- \n",
      "\n",
      "Epoch: 81 \t [===================-] \t Train loss: 0.635 \t Train acc: 0.908\n",
      "Avg Train Loss: 0.635                Avg Val Loss: 0.839                Avg Train Acc: 0.908                Avg Val Acc: 0.722\n",
      "-------------------------------------------------------------------------------------------------------------------------------------------- \n",
      "\n",
      "Epoch: 82 \t [===================-] \t Train loss: 0.647 \t Train acc: 0.908\n",
      "Avg Train Loss: 0.647                Avg Val Loss: 0.839                Avg Train Acc: 0.908                Avg Val Acc: 0.720\n",
      "-------------------------------------------------------------------------------------------------------------------------------------------- \n",
      "\n",
      "Epoch: 83 \t [===================-] \t Train loss: 0.636 \t Train acc: 0.908\n",
      "Avg Train Loss: 0.636                Avg Val Loss: 0.837                Avg Train Acc: 0.908                Avg Val Acc: 0.720\n",
      "-------------------------------------------------------------------------------------------------------------------------------------------- \n",
      "\n",
      "Epoch: 84 \t [===================-] \t Train loss: 0.635 \t Train acc: 0.908\n",
      "Avg Train Loss: 0.635                Avg Val Loss: 0.836                Avg Train Acc: 0.908                Avg Val Acc: 0.721\n",
      "-------------------------------------------------------------------------------------------------------------------------------------------- \n",
      "\n",
      "Epoch: 85 \t [===================-] \t Train loss: 0.635 \t Train acc: 0.908\n",
      "Avg Train Loss: 0.635                Avg Val Loss: 0.836                Avg Train Acc: 0.908                Avg Val Acc: 0.724\n",
      "-------------------------------------------------------------------------------------------------------------------------------------------- \n",
      "\n",
      "Epoch: 86 \t [===================-] \t Train loss: 0.635 \t Train acc: 0.908\n",
      "Avg Train Loss: 0.635                Avg Val Loss: 0.837                Avg Train Acc: 0.908                Avg Val Acc: 0.722\n",
      "-------------------------------------------------------------------------------------------------------------------------------------------- \n",
      "\n",
      "Epoch: 87 \t [===================-] \t Train loss: 0.657 \t Train acc: 0.909\n",
      "Avg Train Loss: 0.657                Avg Val Loss: 0.839                Avg Train Acc: 0.909                Avg Val Acc: 0.720\n",
      "-------------------------------------------------------------------------------------------------------------------------------------------- \n",
      "\n",
      "Epoch: 88 \t [===================-] \t Train loss: 0.646 \t Train acc: 0.908\n",
      "Avg Train Loss: 0.646                Avg Val Loss: 0.839                Avg Train Acc: 0.908                Avg Val Acc: 0.721\n",
      "-------------------------------------------------------------------------------------------------------------------------------------------- \n",
      "\n",
      "Epoch: 89 \t [===================-] \t Train loss: 0.657 \t Train acc: 0.909\n",
      "Avg Train Loss: 0.657                Avg Val Loss: 0.837                Avg Train Acc: 0.909                Avg Val Acc: 0.721\n",
      "-------------------------------------------------------------------------------------------------------------------------------------------- \n",
      "\n",
      "Epoch: 90 \t [===================-] \t Train loss: 0.646 \t Train acc: 0.909\n",
      "Avg Train Loss: 0.646                Avg Val Loss: 0.835                Avg Train Acc: 0.909                Avg Val Acc: 0.723\n",
      "-------------------------------------------------------------------------------------------------------------------------------------------- \n",
      "\n",
      "Epoch: 91 \t [===================-] \t Train loss: 0.635 \t Train acc: 0.909\n",
      "Avg Train Loss: 0.635                Avg Val Loss: 0.838                Avg Train Acc: 0.909                Avg Val Acc: 0.721\n",
      "-------------------------------------------------------------------------------------------------------------------------------------------- \n",
      "\n",
      "Epoch: 92 \t [===================-] \t Train loss: 0.634 \t Train acc: 0.909\n",
      "Avg Train Loss: 0.634                Avg Val Loss: 0.839                Avg Train Acc: 0.909                Avg Val Acc: 0.721\n",
      "-------------------------------------------------------------------------------------------------------------------------------------------- \n",
      "\n",
      "Epoch: 93 \t [===================-] \t Train loss: 0.646 \t Train acc: 0.909\n",
      "Avg Train Loss: 0.646                Avg Val Loss: 0.835                Avg Train Acc: 0.909                Avg Val Acc: 0.724\n",
      "-------------------------------------------------------------------------------------------------------------------------------------------- \n",
      "\n",
      "Epoch: 94 \t [===================-] \t Train loss: 0.634 \t Train acc: 0.909\n",
      "Avg Train Loss: 0.634                Avg Val Loss: 0.837                Avg Train Acc: 0.909                Avg Val Acc: 0.720\n",
      "-------------------------------------------------------------------------------------------------------------------------------------------- \n",
      "\n",
      "Epoch: 95 \t [===================-] \t Train loss: 0.635 \t Train acc: 0.909\n",
      "Avg Train Loss: 0.635                Avg Val Loss: 0.836                Avg Train Acc: 0.909                Avg Val Acc: 0.723\n",
      "-------------------------------------------------------------------------------------------------------------------------------------------- \n",
      "\n",
      "Epoch: 96 \t [===================-] \t Train loss: 0.634 \t Train acc: 0.909\n",
      "Avg Train Loss: 0.634                Avg Val Loss: 0.836                Avg Train Acc: 0.909                Avg Val Acc: 0.723\n",
      "-------------------------------------------------------------------------------------------------------------------------------------------- \n",
      "\n",
      "Epoch: 97 \t [===================-] \t Train loss: 0.634 \t Train acc: 0.909\n",
      "Avg Train Loss: 0.634                Avg Val Loss: 0.838                Avg Train Acc: 0.909                Avg Val Acc: 0.723\n",
      "-------------------------------------------------------------------------------------------------------------------------------------------- \n",
      "\n",
      "Epoch: 98 \t [===================-] \t Train loss: 0.634 \t Train acc: 0.909\n",
      "Avg Train Loss: 0.634                Avg Val Loss: 0.836                Avg Train Acc: 0.909                Avg Val Acc: 0.723\n",
      "-------------------------------------------------------------------------------------------------------------------------------------------- \n",
      "\n",
      "Epoch: 99 \t [===================-] \t Train loss: 0.634 \t Train acc: 0.909\n",
      "Avg Train Loss: 0.634                Avg Val Loss: 0.837                Avg Train Acc: 0.909                Avg Val Acc: 0.724\n",
      "-------------------------------------------------------------------------------------------------------------------------------------------- \n",
      "\n",
      "Epoch: 100 \t [===================-] \t Train loss: 0.634 \t Train acc: 0.909\n",
      "Avg Train Loss: 0.634                Avg Val Loss: 0.834                Avg Train Acc: 0.909                Avg Val Acc: 0.725\n",
      "-------------------------------------------------------------------------------------------------------------------------------------------- \n",
      "\n",
      "Epoch: 101 \t [===================-] \t Train loss: 0.657 \t Train acc: 0.910\n",
      "Avg Train Loss: 0.657                Avg Val Loss: 0.834                Avg Train Acc: 0.910                Avg Val Acc: 0.723\n",
      "-------------------------------------------------------------------------------------------------------------------------------------------- \n",
      "\n",
      "Epoch: 102 \t [=-------------------] \t Train loss: 0.647 \t Train acc: 0.904\r"
     ]
    },
    {
     "ename": "KeyboardInterrupt",
     "evalue": "",
     "output_type": "error",
     "traceback": [
      "\u001b[1;31m---------------------------------------------------------------------------\u001b[0m",
      "\u001b[1;31mKeyboardInterrupt\u001b[0m                         Traceback (most recent call last)",
      "Cell \u001b[1;32mIn[326], line 4\u001b[0m\n\u001b[0;32m      1\u001b[0m optimizer \u001b[39m=\u001b[39m torch\u001b[39m.\u001b[39moptim\u001b[39m.\u001b[39mAdam(model\u001b[39m.\u001b[39mparameters(), lr\u001b[39m=\u001b[39m\u001b[39m1e-3\u001b[39m)\n\u001b[0;32m      2\u001b[0m criterion \u001b[39m=\u001b[39m torch\u001b[39m.\u001b[39mnn\u001b[39m.\u001b[39mCrossEntropyLoss(reduction\u001b[39m=\u001b[39m\u001b[39m\"\u001b[39m\u001b[39mmean\u001b[39m\u001b[39m\"\u001b[39m)\n\u001b[1;32m----> 4\u001b[0m hist \u001b[39m=\u001b[39m train_model(model, train_loader, val_loader, optimizer, criterion, epochs\u001b[39m=\u001b[39;49m\u001b[39m500\u001b[39;49m)\n",
      "Cell \u001b[1;32mIn[244], line 65\u001b[0m, in \u001b[0;36mtrain_model\u001b[1;34m(model, train_loader, val_loader, optimizer, criterion, epochs)\u001b[0m\n\u001b[0;32m     63\u001b[0m     optimizer\u001b[39m.\u001b[39mzero_grad()\n\u001b[0;32m     64\u001b[0m     train_loss\u001b[39m.\u001b[39mbackward()\n\u001b[1;32m---> 65\u001b[0m     optimizer\u001b[39m.\u001b[39;49mstep()\n\u001b[0;32m     67\u001b[0m avg_train_loss \u001b[39m=\u001b[39m sum_train_loss \u001b[39m/\u001b[39m num_train_batches\n\u001b[0;32m     69\u001b[0m \u001b[39m##############\u001b[39;00m\n\u001b[0;32m     70\u001b[0m \u001b[39m# Validation #\u001b[39;00m\n\u001b[0;32m     71\u001b[0m \u001b[39m##############\u001b[39;00m\n",
      "File \u001b[1;32mc:\\Program Files\\Python310\\lib\\site-packages\\torch\\optim\\optimizer.py:140\u001b[0m, in \u001b[0;36mOptimizer._hook_for_profile.<locals>.profile_hook_step.<locals>.wrapper\u001b[1;34m(*args, **kwargs)\u001b[0m\n\u001b[0;32m    138\u001b[0m profile_name \u001b[39m=\u001b[39m \u001b[39m\"\u001b[39m\u001b[39mOptimizer.step#\u001b[39m\u001b[39m{}\u001b[39;00m\u001b[39m.step\u001b[39m\u001b[39m\"\u001b[39m\u001b[39m.\u001b[39mformat(obj\u001b[39m.\u001b[39m\u001b[39m__class__\u001b[39m\u001b[39m.\u001b[39m\u001b[39m__name__\u001b[39m)\n\u001b[0;32m    139\u001b[0m \u001b[39mwith\u001b[39;00m torch\u001b[39m.\u001b[39mautograd\u001b[39m.\u001b[39mprofiler\u001b[39m.\u001b[39mrecord_function(profile_name):\n\u001b[1;32m--> 140\u001b[0m     out \u001b[39m=\u001b[39m func(\u001b[39m*\u001b[39margs, \u001b[39m*\u001b[39m\u001b[39m*\u001b[39mkwargs)\n\u001b[0;32m    141\u001b[0m     obj\u001b[39m.\u001b[39m_optimizer_step_code()\n\u001b[0;32m    142\u001b[0m     \u001b[39mreturn\u001b[39;00m out\n",
      "File \u001b[1;32mc:\\Program Files\\Python310\\lib\\site-packages\\torch\\optim\\optimizer.py:23\u001b[0m, in \u001b[0;36m_use_grad_for_differentiable.<locals>._use_grad\u001b[1;34m(self, *args, **kwargs)\u001b[0m\n\u001b[0;32m     21\u001b[0m \u001b[39mtry\u001b[39;00m:\n\u001b[0;32m     22\u001b[0m     torch\u001b[39m.\u001b[39mset_grad_enabled(\u001b[39mself\u001b[39m\u001b[39m.\u001b[39mdefaults[\u001b[39m'\u001b[39m\u001b[39mdifferentiable\u001b[39m\u001b[39m'\u001b[39m])\n\u001b[1;32m---> 23\u001b[0m     ret \u001b[39m=\u001b[39m func(\u001b[39mself\u001b[39m, \u001b[39m*\u001b[39margs, \u001b[39m*\u001b[39m\u001b[39m*\u001b[39mkwargs)\n\u001b[0;32m     24\u001b[0m \u001b[39mfinally\u001b[39;00m:\n\u001b[0;32m     25\u001b[0m     torch\u001b[39m.\u001b[39mset_grad_enabled(prev_grad)\n",
      "File \u001b[1;32mc:\\Program Files\\Python310\\lib\\site-packages\\torch\\optim\\adam.py:234\u001b[0m, in \u001b[0;36mAdam.step\u001b[1;34m(self, closure, grad_scaler)\u001b[0m\n\u001b[0;32m    231\u001b[0m                 \u001b[39mraise\u001b[39;00m \u001b[39mRuntimeError\u001b[39;00m(\u001b[39m'\u001b[39m\u001b[39m`requires_grad` is not supported for `step` in differentiable mode\u001b[39m\u001b[39m'\u001b[39m)\n\u001b[0;32m    232\u001b[0m             state_steps\u001b[39m.\u001b[39mappend(state[\u001b[39m'\u001b[39m\u001b[39mstep\u001b[39m\u001b[39m'\u001b[39m])\n\u001b[1;32m--> 234\u001b[0m     adam(params_with_grad,\n\u001b[0;32m    235\u001b[0m          grads,\n\u001b[0;32m    236\u001b[0m          exp_avgs,\n\u001b[0;32m    237\u001b[0m          exp_avg_sqs,\n\u001b[0;32m    238\u001b[0m          max_exp_avg_sqs,\n\u001b[0;32m    239\u001b[0m          state_steps,\n\u001b[0;32m    240\u001b[0m          amsgrad\u001b[39m=\u001b[39;49mgroup[\u001b[39m'\u001b[39;49m\u001b[39mamsgrad\u001b[39;49m\u001b[39m'\u001b[39;49m],\n\u001b[0;32m    241\u001b[0m          beta1\u001b[39m=\u001b[39;49mbeta1,\n\u001b[0;32m    242\u001b[0m          beta2\u001b[39m=\u001b[39;49mbeta2,\n\u001b[0;32m    243\u001b[0m          lr\u001b[39m=\u001b[39;49mgroup[\u001b[39m'\u001b[39;49m\u001b[39mlr\u001b[39;49m\u001b[39m'\u001b[39;49m],\n\u001b[0;32m    244\u001b[0m          weight_decay\u001b[39m=\u001b[39;49mgroup[\u001b[39m'\u001b[39;49m\u001b[39mweight_decay\u001b[39;49m\u001b[39m'\u001b[39;49m],\n\u001b[0;32m    245\u001b[0m          eps\u001b[39m=\u001b[39;49mgroup[\u001b[39m'\u001b[39;49m\u001b[39meps\u001b[39;49m\u001b[39m'\u001b[39;49m],\n\u001b[0;32m    246\u001b[0m          maximize\u001b[39m=\u001b[39;49mgroup[\u001b[39m'\u001b[39;49m\u001b[39mmaximize\u001b[39;49m\u001b[39m'\u001b[39;49m],\n\u001b[0;32m    247\u001b[0m          foreach\u001b[39m=\u001b[39;49mgroup[\u001b[39m'\u001b[39;49m\u001b[39mforeach\u001b[39;49m\u001b[39m'\u001b[39;49m],\n\u001b[0;32m    248\u001b[0m          capturable\u001b[39m=\u001b[39;49mgroup[\u001b[39m'\u001b[39;49m\u001b[39mcapturable\u001b[39;49m\u001b[39m'\u001b[39;49m],\n\u001b[0;32m    249\u001b[0m          differentiable\u001b[39m=\u001b[39;49mgroup[\u001b[39m'\u001b[39;49m\u001b[39mdifferentiable\u001b[39;49m\u001b[39m'\u001b[39;49m],\n\u001b[0;32m    250\u001b[0m          fused\u001b[39m=\u001b[39;49mgroup[\u001b[39m'\u001b[39;49m\u001b[39mfused\u001b[39;49m\u001b[39m'\u001b[39;49m],\n\u001b[0;32m    251\u001b[0m          grad_scale\u001b[39m=\u001b[39;49mgrad_scale,\n\u001b[0;32m    252\u001b[0m          found_inf\u001b[39m=\u001b[39;49mfound_inf)\n\u001b[0;32m    254\u001b[0m \u001b[39mreturn\u001b[39;00m loss\n",
      "File \u001b[1;32mc:\\Program Files\\Python310\\lib\\site-packages\\torch\\optim\\adam.py:300\u001b[0m, in \u001b[0;36madam\u001b[1;34m(params, grads, exp_avgs, exp_avg_sqs, max_exp_avg_sqs, state_steps, foreach, capturable, differentiable, fused, grad_scale, found_inf, amsgrad, beta1, beta2, lr, weight_decay, eps, maximize)\u001b[0m\n\u001b[0;32m    297\u001b[0m \u001b[39melse\u001b[39;00m:\n\u001b[0;32m    298\u001b[0m     func \u001b[39m=\u001b[39m _single_tensor_adam\n\u001b[1;32m--> 300\u001b[0m func(params,\n\u001b[0;32m    301\u001b[0m      grads,\n\u001b[0;32m    302\u001b[0m      exp_avgs,\n\u001b[0;32m    303\u001b[0m      exp_avg_sqs,\n\u001b[0;32m    304\u001b[0m      max_exp_avg_sqs,\n\u001b[0;32m    305\u001b[0m      state_steps,\n\u001b[0;32m    306\u001b[0m      amsgrad\u001b[39m=\u001b[39;49mamsgrad,\n\u001b[0;32m    307\u001b[0m      beta1\u001b[39m=\u001b[39;49mbeta1,\n\u001b[0;32m    308\u001b[0m      beta2\u001b[39m=\u001b[39;49mbeta2,\n\u001b[0;32m    309\u001b[0m      lr\u001b[39m=\u001b[39;49mlr,\n\u001b[0;32m    310\u001b[0m      weight_decay\u001b[39m=\u001b[39;49mweight_decay,\n\u001b[0;32m    311\u001b[0m      eps\u001b[39m=\u001b[39;49meps,\n\u001b[0;32m    312\u001b[0m      maximize\u001b[39m=\u001b[39;49mmaximize,\n\u001b[0;32m    313\u001b[0m      capturable\u001b[39m=\u001b[39;49mcapturable,\n\u001b[0;32m    314\u001b[0m      differentiable\u001b[39m=\u001b[39;49mdifferentiable,\n\u001b[0;32m    315\u001b[0m      grad_scale\u001b[39m=\u001b[39;49mgrad_scale,\n\u001b[0;32m    316\u001b[0m      found_inf\u001b[39m=\u001b[39;49mfound_inf)\n",
      "File \u001b[1;32mc:\\Program Files\\Python310\\lib\\site-packages\\torch\\optim\\adam.py:410\u001b[0m, in \u001b[0;36m_single_tensor_adam\u001b[1;34m(params, grads, exp_avgs, exp_avg_sqs, max_exp_avg_sqs, state_steps, grad_scale, found_inf, amsgrad, beta1, beta2, lr, weight_decay, eps, maximize, capturable, differentiable)\u001b[0m\n\u001b[0;32m    408\u001b[0m     denom \u001b[39m=\u001b[39m (max_exp_avg_sqs[i]\u001b[39m.\u001b[39msqrt() \u001b[39m/\u001b[39m bias_correction2_sqrt)\u001b[39m.\u001b[39madd_(eps)\n\u001b[0;32m    409\u001b[0m \u001b[39melse\u001b[39;00m:\n\u001b[1;32m--> 410\u001b[0m     denom \u001b[39m=\u001b[39m (exp_avg_sq\u001b[39m.\u001b[39;49msqrt() \u001b[39m/\u001b[39;49m bias_correction2_sqrt)\u001b[39m.\u001b[39;49madd_(eps)\n\u001b[0;32m    412\u001b[0m param\u001b[39m.\u001b[39maddcdiv_(exp_avg, denom, value\u001b[39m=\u001b[39m\u001b[39m-\u001b[39mstep_size)\n",
      "\u001b[1;31mKeyboardInterrupt\u001b[0m: "
     ]
    }
   ],
   "source": [
    "optimizer = torch.optim.Adam(model.parameters(), lr=1e-3)\n",
    "criterion = torch.nn.CrossEntropyLoss(reduction=\"mean\")\n",
    "\n",
    "hist = train_model(model, train_loader, val_loader, optimizer, criterion, epochs=500)"
   ]
  },
  {
   "cell_type": "code",
   "execution_count": 327,
   "metadata": {},
   "outputs": [
    {
     "data": {
      "image/png": "[encoded data removed]",
      "text/plain": [
       "<Figure size 600x400 with 1 Axes>"
      ]
     },
     "metadata": {},
     "output_type": "display_data"
    }
   ],
   "source": [
    "train_loss, val_loss = hist[\"train\"], hist[\"val\"]\n",
    "epochs = np.arange(len(train_loss))\n",
    "fig, ax = plt.subplots(1, figsize=(6,4))\n",
    "ax.plot(epochs, train_loss, label=\"Train Loss\")\n",
    "ax.plot(epochs, val_loss, label=\"Val Loss\")\n",
    "ax.legend()\n",
    "ax.set_xlabel(\"Epoch\")\n",
    "ax.set_ylabel(\"Loss\")\n",
    "plt.show()"
   ]
  },
  {
   "attachments": {},
   "cell_type": "markdown",
   "metadata": {},
   "source": [
    "## 3.2 Evaluating on the Test Set"
   ]
  },
  {
   "cell_type": "code",
   "execution_count": 328,
   "metadata": {},
   "outputs": [
    {
     "name": "stdout",
     "output_type": "stream",
     "text": [
      "Test Accuracy: 0.735\n"
     ]
    }
   ],
   "source": [
    "mca_test = Accuracy(\n",
    "    task=\"multiclass\",\n",
    "    num_classes=3).to(device=DEVICE)\n",
    "\n",
    "for i, (data, label) in enumerate(test_loader):\n",
    "    pred = model(data)\n",
    "    mca_test.update(pred.to(torch.float16),\n",
    "                    torch.argmax(label, dim=1)),\n",
    "\n",
    "print(\"Test Accuracy: {:.3f}\".format(mca_test.compute().item()))"
   ]
  },
  {
   "attachments": {},
   "cell_type": "markdown",
   "metadata": {},
   "source": [
    "# 4. Visualizing the Embeddings"
   ]
  },
  {
   "cell_type": "code",
   "execution_count": 261,
   "metadata": {},
   "outputs": [],
   "source": [
    "from sklearn.manifold import TSNE\n",
    "\n",
    "tSNE = TSNE(n_components=2, perplexity=30, random_state=192)\n",
    "embeddings = model.get_embedding().detach().cpu().numpy()\n",
    "\n",
    "t_embed = tSNE.fit_transform(embeddings)"
   ]
  },
  {
   "cell_type": "code",
   "execution_count": 294,
   "metadata": {},
   "outputs": [],
   "source": [
    "words = np.array(list(alt_tokenizer.word_index.keys()))\n",
    "word_idx = np.array(list(alt_tokenizer.word_index.values()))\n",
    "\n",
    "t_embed = t_embed[word_idx]"
   ]
  },
  {
   "cell_type": "code",
   "execution_count": 324,
   "metadata": {},
   "outputs": [
    {
     "data": {
      "image/png": "[encoded data removed]",
      "text/plain": [
       "<Figure size 600x400 with 1 Axes>"
      ]
     },
     "metadata": {},
     "output_type": "display_data"
    }
   ],
   "source": [
    "n_scale = 2\n",
    "center = 5\n",
    "\n",
    "fig, ax = plt.subplots(1, figsize=(6,4))\n",
    "ax.scatter(t_embed[:, 0][:1000], t_embed[:, 1][:1000], s=5)\n",
    "ax.scatter(t_embed[center, 0], t_embed[center, 1], s=50, color=\"red\", marker=\"*\")\n",
    "ax.set_xlim(t_embed[center, 0]-n_scale, t_embed[center, 0]+n_scale)\n",
    "ax.set_ylim(t_embed[center, 1]-n_scale, t_embed[center, 1]+n_scale)\n",
    "\n",
    "for point, word in zip(t_embed[:1000], words[:1000]):\n",
    "    ax.annotate(\n",
    "        word,\n",
    "        xy=(point[0], point[1]),\n",
    "        xytext=(point[0], point[1]+0.01),\n",
    "        fontsize=8\n",
    "    )\n",
    "\n",
    "plt.show()"
   ]
  }
 ],
 "metadata": {
  "kernelspec": {
   "display_name": "Python 3",
   "language": "python",
   "name": "python3"
  },
  "language_info": {
   "codemirror_mode": {
    "name": "ipython",
    "version": 3
   },
   "file_extension": ".py",
   "mimetype": "text/x-python",
   "name": "python",
   "nbconvert_exporter": "python",
   "pygments_lexer": "ipython3",
   "version": "3.11.3"
  },
  "orig_nbformat": 4
 },
 "nbformat": 4,
 "nbformat_minor": 2
}
